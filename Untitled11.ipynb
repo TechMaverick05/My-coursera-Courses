{
  "nbformat": 4,
  "nbformat_minor": 0,
  "metadata": {
    "colab": {
      "name": "Untitled11.ipynb",
      "provenance": [],
      "private_outputs": true,
      "collapsed_sections": [],
      "authorship_tag": "ABX9TyOQB8nlU0HfPkn0rIfXAphE",
      "include_colab_link": true
    },
    "kernelspec": {
      "name": "python3",
      "display_name": "Python 3"
    }
  },
  "cells": [
    {
      "cell_type": "markdown",
      "metadata": {
        "id": "view-in-github",
        "colab_type": "text"
      },
      "source": [
        "<a href=\"https://colab.research.google.com/github/TechMaverick05/My-coursera-Courses/blob/master/Untitled11.ipynb\" target=\"_parent\"><img src=\"https://colab.research.google.com/assets/colab-badge.svg\" alt=\"Open In Colab\"/></a>"
      ]
    },
    {
      "cell_type": "code",
      "metadata": {
        "id": "kJZSPC6LUQ79",
        "colab_type": "code",
        "colab": {}
      },
      "source": [
        ""
      ],
      "execution_count": 0,
      "outputs": []
    },
    {
      "cell_type": "markdown",
      "metadata": {
        "id": "19vCvFnUUSK6",
        "colab_type": "text"
      },
      "source": [
        "A light sensor (photoresistor) is an analog sensor.\n"
      ]
    },
    {
      "cell_type": "markdown",
      "metadata": {
        "id": "fj4-Nt5UUU0X",
        "colab_type": "text"
      },
      "source": [
        "Ans. True"
      ]
    },
    {
      "cell_type": "markdown",
      "metadata": {
        "id": "BtABx3zzUXEq",
        "colab_type": "text"
      },
      "source": [
        "A microphone is a digital sensor."
      ]
    },
    {
      "cell_type": "markdown",
      "metadata": {
        "id": "mwWQpEfCUaP4",
        "colab_type": "text"
      },
      "source": [
        "Ans. False"
      ]
    },
    {
      "cell_type": "markdown",
      "metadata": {
        "id": "OzP5NeWYUdVQ",
        "colab_type": "text"
      },
      "source": [
        "A push button is an analog sensor."
      ]
    },
    {
      "cell_type": "markdown",
      "metadata": {
        "id": "7U33mn_1UgVr",
        "colab_type": "text"
      },
      "source": [
        "Ans. False"
      ]
    },
    {
      "cell_type": "markdown",
      "metadata": {
        "id": "0I3W2x2OUiZO",
        "colab_type": "text"
      },
      "source": [
        "A keyboard is a digital sensor.\n"
      ]
    },
    {
      "cell_type": "markdown",
      "metadata": {
        "id": "KE69zfgQUk63",
        "colab_type": "text"
      },
      "source": [
        "Ans. True"
      ]
    },
    {
      "cell_type": "markdown",
      "metadata": {
        "id": "44oLRBZoUnca",
        "colab_type": "text"
      },
      "source": [
        "Which of the following components are actuators? Select all that apply."
      ]
    },
    {
      "cell_type": "markdown",
      "metadata": {
        "id": "0unQ5XXmUrwm",
        "colab_type": "text"
      },
      "source": [
        "Ans. a servo motor\n",
        "     an LED\n",
        "     a heating element"
      ]
    },
    {
      "cell_type": "markdown",
      "metadata": {
        "id": "GxxfiG8tV_Ml",
        "colab_type": "text"
      },
      "source": [
        "The component of an embedded system that executes a program is:\n",
        "\n"
      ]
    },
    {
      "cell_type": "markdown",
      "metadata": {
        "id": "F1HIDGzwWCOi",
        "colab_type": "text"
      },
      "source": [
        "Ans. a microcontroller"
      ]
    },
    {
      "cell_type": "markdown",
      "metadata": {
        "id": "EGwPTWf_WHvt",
        "colab_type": "text"
      },
      "source": [
        "An analog-to-digital converter is common in embedded systems because"
      ]
    },
    {
      "cell_type": "markdown",
      "metadata": {
        "id": "zY--yUdJWK6l",
        "colab_type": "text"
      },
      "source": [
        "Ans. many sensors are analog while the microcontroller is digital."
      ]
    },
    {
      "cell_type": "markdown",
      "metadata": {
        "id": "FSsEeVCbWWNC",
        "colab_type": "text"
      },
      "source": [
        "Consider the anti-lock braking system in a car. What are the main sensors and actuators of this system from the perspective of the driver?"
      ]
    },
    {
      "cell_type": "markdown",
      "metadata": {
        "id": "pVoBKzPwWY_0",
        "colab_type": "text"
      },
      "source": [
        "Ans. brake pedal and brake calipers and pads"
      ]
    }
  ]
}