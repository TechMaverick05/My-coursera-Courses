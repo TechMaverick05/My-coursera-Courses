{
  "nbformat": 4,
  "nbformat_minor": 0,
  "metadata": {
    "colab": {
      "name": "Untitled12.ipynb",
      "provenance": [],
      "private_outputs": true,
      "collapsed_sections": [],
      "authorship_tag": "ABX9TyN8AiWY8rBNkEZMrwqC01Vp",
      "include_colab_link": true
    },
    "kernelspec": {
      "name": "python3",
      "display_name": "Python 3"
    }
  },
  "cells": [
    {
      "cell_type": "markdown",
      "metadata": {
        "id": "view-in-github",
        "colab_type": "text"
      },
      "source": [
        "<a href=\"https://colab.research.google.com/github/TechMaverick05/My-coursera-Courses/blob/master/Untitled12.ipynb\" target=\"_parent\"><img src=\"https://colab.research.google.com/assets/colab-badge.svg\" alt=\"Open In Colab\"/></a>"
      ]
    },
    {
      "cell_type": "code",
      "metadata": {
        "id": "N8IrgrhdW0J3",
        "colab_type": "code",
        "colab": {}
      },
      "source": [
        ""
      ],
      "execution_count": 0,
      "outputs": []
    },
    {
      "cell_type": "markdown",
      "metadata": {
        "id": "HwUQkO9JXIJE",
        "colab_type": "text"
      },
      "source": [
        "Under what conditions should an integrated circuit be used in an IoT device?"
      ]
    },
    {
      "cell_type": "markdown",
      "metadata": {
        "id": "i6qFUsu6XLKc",
        "colab_type": "text"
      },
      "source": [
        "Ans. When highest performance is required\n",
        "When lowest power is required\n",
        "when the function is already commonly available as an integrated circuit"
      ]
    },
    {
      "cell_type": "markdown",
      "metadata": {
        "id": "Uw8MLxSzXgr-",
        "colab_type": "text"
      },
      "source": [
        "Under what conditions should an integrated circuit be used in an IoT device?"
      ]
    },
    {
      "cell_type": "markdown",
      "metadata": {
        "id": "TV6yBPjzXjqS",
        "colab_type": "text"
      },
      "source": [
        "Ans. The physical look of the final device."
      ]
    },
    {
      "cell_type": "markdown",
      "metadata": {
        "id": "LNflvx_7Xps2",
        "colab_type": "text"
      },
      "source": [
        "Generally, in a computer-based system, main memory is much larger than cache."
      ]
    },
    {
      "cell_type": "markdown",
      "metadata": {
        "id": "L4BxKwunXtHX",
        "colab_type": "text"
      },
      "source": [
        "Ans. True"
      ]
    },
    {
      "cell_type": "markdown",
      "metadata": {
        "id": "U2sd_d0JXu0Y",
        "colab_type": "text"
      },
      "source": [
        "What is the fastest type of storage in a computer-based device?"
      ]
    },
    {
      "cell_type": "markdown",
      "metadata": {
        "id": "A-66Wrp0Xxb9",
        "colab_type": "text"
      },
      "source": [
        "Ans. Registers"
      ]
    },
    {
      "cell_type": "markdown",
      "metadata": {
        "id": "vvpbB0pPXzyu",
        "colab_type": "text"
      },
      "source": [
        "Which statement is false?\n",
        "\n"
      ]
    },
    {
      "cell_type": "markdown",
      "metadata": {
        "id": "WCu7xLevX3Jd",
        "colab_type": "text"
      },
      "source": [
        "Ans. Machine language is universal, allowing programs written in machine language to be executed on any microprocessor."
      ]
    },
    {
      "cell_type": "markdown",
      "metadata": {
        "id": "ROomnMClYJ1F",
        "colab_type": "text"
      },
      "source": [
        "What does an assembler generate?"
      ]
    },
    {
      "cell_type": "markdown",
      "metadata": {
        "id": "p1z_FUh1YMN4",
        "colab_type": "text"
      },
      "source": [
        "Ans. Machine code from assembly code."
      ]
    },
    {
      "cell_type": "markdown",
      "metadata": {
        "id": "GD8Zzkg9YSi4",
        "colab_type": "text"
      },
      "source": [
        "Compiled code generally executes faster than interpreted code."
      ]
    },
    {
      "cell_type": "markdown",
      "metadata": {
        "id": "9Y4pGtlsYUxN",
        "colab_type": "text"
      },
      "source": [
        "True"
      ]
    },
    {
      "cell_type": "markdown",
      "metadata": {
        "id": "RvrA4W_QYWPu",
        "colab_type": "text"
      },
      "source": [
        "Which of the following is NOT a benefit of using an operating system?\n",
        "\n"
      ]
    },
    {
      "cell_type": "markdown",
      "metadata": {
        "id": "lXYJLPO2YZFe",
        "colab_type": "text"
      },
      "source": [
        "Ans. The frequency of the microcontroller clock can be significantly increased."
      ]
    }
  ]
}